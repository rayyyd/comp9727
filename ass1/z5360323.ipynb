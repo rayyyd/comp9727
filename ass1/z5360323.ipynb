{
 "cells": [
  {
   "cell_type": "markdown",
   "id": "2b286304",
   "metadata": {},
   "source": [
    "# imports"
   ]
  },
  {
   "cell_type": "code",
   "execution_count": 109,
   "id": "a646e889",
   "metadata": {},
   "outputs": [],
   "source": [
    "import pandas as pd\n",
    "import numpy as np\n",
    "import sklearn\n",
    "import matplotlib.pyplot as plt\n",
    "import nltk, re, string\n",
    "import sys, os\n",
    "from nltk.corpus import stopwords\n",
    "from nltk.tokenize import word_tokenize\n",
    "from nltk.stem import PorterStemmer\n",
    "from sklearn.metrics import accuracy_score, classification_report, precision_score, f1_score, recall_score, make_scorer\n",
    "from sklearn.pipeline import make_pipeline\n",
    "from sklearn.model_selection import cross_val_score, cross_validate, StratifiedKFold, GridSearchCV\n",
    "from sklearn.feature_extraction.text import TfidfVectorizer, CountVectorizer\n",
    "from sklearn.svm import SVC\n",
    "from sklearn.naive_bayes import BernoulliNB\n",
    "from sklearn.naive_bayes import MultinomialNB\n",
    "from nltk.stem import WordNetLemmatizer\n"
   ]
  },
  {
   "cell_type": "markdown",
   "id": "a453a60f",
   "metadata": {},
   "source": [
    "# Part 1"
   ]
  },
  {
   "cell_type": "markdown",
   "id": "69fcb64f",
   "metadata": {},
   "source": [
    "**Question 1**"
   ]
  },
  {
   "cell_type": "markdown",
   "id": "29cf2b3e",
   "metadata": {},
   "source": [
    "i) \\\n",
    "\\\n",
    "Currently the regex might remove to many special characters.\n",
    "\n",
    "The regex used was:\n",
    "text = re.sub(r'[^\\w\\s]', '', text)  \n",
    "\n",
    "which effectively removes anything that is not a word or a white space.\n",
    "The removal of punctuation by the above regex may be too much.\n",
    "\n",
    "For example, in the dataset the line \"john deere, john 3:16\t2016\" exists. With the regex applied, it would instead read\n",
    "\"john deere, john 316   2016\". With the colon removed, the clear religious context of \"john 3:16\" is now \"john 316\" which has ambiguous meaning.\n",
    "\n",
    "To fix this mistake, the regex can be modified to include punctuation, as demonstrated in the cell below."
   ]
  },
  {
   "cell_type": "code",
   "execution_count": 15,
   "id": "8afd318b",
   "metadata": {},
   "outputs": [
    {
     "name": "stdout",
     "output_type": "stream",
     "text": [
      "hello你好 !!123  John 3:16\n"
     ]
    }
   ],
   "source": [
    "# include punctuation in regex pattern\n",
    "text = \"hello你好 !!123🗿 🤫🧏‍♂️ John 3:16\"\n",
    "\n",
    "import string\n",
    "pattern = rf\"[^\\w\\s{re.escape(string.punctuation)}]\"  # modified regex pattern to include punctuation\n",
    "text = re.sub(pattern, '', text)  \n",
    "print(text)"
   ]
  },
  {
   "cell_type": "markdown",
   "id": "be61a35e",
   "metadata": {},
   "source": [
    "ii) \\\n",
    "\\\n",
    "K-Fold cross validation can be used instead of only one training-test split.\n",
    "\n",
    "K-Fold CV divides the subset into *k subsets. Then, *k-1 subsets are used for training and the remaining subset is used for validation. In this method, the training is iterated *k times, with a different subset used for validation each time.\n",
    "\n",
    "Stratified K-Fold is an additional type of K-Fold CV that ensures each \"fold\" of the dataset has the same proportion of observations with a given label. This helps in creating better class distribution accross folds.\n",
    "\n",
    "Below is a code snippet that demonstrates the use of Stratified K-Fold CV in this assignment."
   ]
  },
  {
   "cell_type": "code",
   "execution_count": null,
   "id": "8b656168",
   "metadata": {},
   "outputs": [],
   "source": [
    "### non-working code. for demonstration only!! ###\n",
    "pipeline = make_pipeline(\n",
    "    TfidfVectorizer(),\n",
    "    BernoulliNB()    \n",
    ")\n",
    "\n",
    "cv = StratifiedKFold(n_splits=5, shuffle=True, random_state=42)\n",
    "\n",
    "bnb_scores = cross_val_score(\n",
    "    pipeline,\n",
    "    df['content'],       # input features\n",
    "    df['topic'],         # labels\n",
    "    cv=cv,\n",
    "    scoring='accuracy'\n",
    ")"
   ]
  },
  {
   "cell_type": "markdown",
   "id": "2e740e77",
   "metadata": {},
   "source": [
    "**Question 2**"
   ]
  },
  {
   "cell_type": "markdown",
   "id": "ba162b65",
   "metadata": {},
   "source": [
    "Data import and Pre-processing steps.\n",
    "\n",
    "Best pre-processing steps:\n",
    "- Lowercasing\n",
    "- removal of special characters except punctuation\n",
    "- tokenizing words\n",
    "- filtering stop words\n",
    "- lemmatizing words instead of stemming"
   ]
  },
  {
   "cell_type": "code",
   "execution_count": 78,
   "id": "cdca4670",
   "metadata": {},
   "outputs": [
    {
     "name": "stderr",
     "output_type": "stream",
     "text": [
      "[nltk_data] Downloading package stopwords to /home/raymo/nltk_data...\n",
      "[nltk_data]   Package stopwords is already up-to-date!\n",
      "[nltk_data] Downloading package punkt to /home/raymo/nltk_data...\n",
      "[nltk_data]   Package punkt is already up-to-date!\n",
      "[nltk_data] Downloading package punkt_tab to /home/raymo/nltk_data...\n",
      "[nltk_data]   Package punkt_tab is already up-to-date!\n",
      "[nltk_data] Downloading package wordnet to /home/raymo/nltk_data...\n",
      "[nltk_data]   Package wordnet is already up-to-date!\n"
     ]
    }
   ],
   "source": [
    "#all common setup code.\n",
    "\n",
    "df = pd.read_csv('dataset.tsv', sep='\\t')\n",
    "df = df.drop_duplicates()\n",
    "df = df.dropna()\n",
    "\n",
    "# concantenante\n",
    "\n",
    "df['content'] = df['artist_name'].astype(str) + \" \" + df['track_name'].astype(str) + \" \"  + df['release_date'].astype(str) + \" \" + df['genre'] + \" \" + df['lyrics']\n",
    "\n",
    "# pre-processing\n",
    "\n",
    "nltk.download('stopwords')\n",
    "nltk.download('punkt')\n",
    "nltk.download('punkt_tab')\n",
    "nltk.download('wordnet')\n",
    "\n",
    "ps = PorterStemmer()\n",
    "stop_words = set(stopwords.words('english'))\n",
    "\n",
    "\n",
    "def preprocess_text(text):\n",
    "    text = text.lower()          # no impact\n",
    "    pattern = rf\"[^\\w\\s{re.escape(string.punctuation)}]\"  # modified regex pattern to include punctuation (question 1)\n",
    "    text = re.sub(pattern, '', text)  \n",
    "    tokens = word_tokenize(text)\n",
    "    tokens = [word for word in tokens if word not in stop_words]\n",
    "    tokens = [WordNetLemmatizer().lemmatize(tok, pos='v') for tok in tokens]\n",
    "    return ' '.join(tokens)\n",
    "\n",
    "df['content'] = df['content'].apply(preprocess_text)\n",
    "\n",
    "    \n"
   ]
  },
  {
   "cell_type": "markdown",
   "id": "0e031b62",
   "metadata": {},
   "source": [
    "Multinomial Naive Bayes method"
   ]
  },
  {
   "cell_type": "code",
   "execution_count": 74,
   "id": "9a511905",
   "metadata": {},
   "outputs": [
    {
     "name": "stdout",
     "output_type": "stream",
     "text": [
      "Mean test_accuracy      : 0.4681716126546564\n",
      "Mean test_precision_macro      : 0.5266436296870303\n",
      "Mean test_recall_macro      : 0.4681716126546564\n",
      "Mean test_f1_macro      : 0.43816909491649403\n"
     ]
    }
   ],
   "source": [
    "mnb_pipeline = make_pipeline(\n",
    "    TfidfVectorizer(),\n",
    "    MultinomialNB()    \n",
    ")\n",
    "\n",
    "mnb_cv = StratifiedKFold(n_splits=5, shuffle=True, random_state=42)\n",
    "mnb_scoring = {\n",
    "    'accuracy'        : 'balanced_accuracy',  # you can still use the built-in string\n",
    "    'precision_macro' : make_scorer(\n",
    "        precision_score,\n",
    "        average='macro',\n",
    "        zero_division=0      # or 1, or 'warn'—your choice\n",
    "    ),\n",
    "    'recall_macro'   : make_scorer(\n",
    "        recall_score,\n",
    "        average='macro',\n",
    "        zero_division=0      # ensures recall handles any 0/0 in its internal precision/recall\n",
    "    ),\n",
    "    'f1_macro'        : make_scorer(\n",
    "        f1_score,\n",
    "        average='macro',\n",
    "        zero_division=0      # ensures F1 handles any 0/0 in its internal precision/recall\n",
    "    )\n",
    "}\n",
    "\n",
    "mnb_results = cross_validate(\n",
    "    mnb_pipeline,\n",
    "    df['content'],       # input features\n",
    "    df['topic'],         # labels\n",
    "    cv=mnb_cv,\n",
    "    scoring=mnb_scoring,\n",
    "    return_train_score=False\n",
    ")\n",
    "\n",
    "for metric in mnb_scoring:\n",
    "    key = f\"test_{metric}\"\n",
    "    mnb_scores = mnb_results[key]\n",
    "    # print(f\"Per-fold {key}:\", mnb_scores)\n",
    "    print(f\"Mean {key}      :\", np.mean(mnb_scores))"
   ]
  },
  {
   "cell_type": "markdown",
   "id": "a5deb309",
   "metadata": {},
   "source": [
    "**Question 3)**"
   ]
  },
  {
   "cell_type": "markdown",
   "id": "3894f48f",
   "metadata": {},
   "source": [
    "Bernoulli Naive Bayes method"
   ]
  },
  {
   "cell_type": "code",
   "execution_count": 79,
   "id": "3f56c890",
   "metadata": {},
   "outputs": [
    {
     "name": "stdout",
     "output_type": "stream",
     "text": [
      "Mean test_accuracy      : 0.38589700680882916\n",
      "Mean test_precision_macro      : 0.3564937760863204\n",
      "Mean test_recall_macro      : 0.38589700680882916\n",
      "Mean test_f1_macro      : 0.3377857649686252\n"
     ]
    }
   ],
   "source": [
    "bnb_pipeline = make_pipeline(\n",
    "    TfidfVectorizer(),\n",
    "    BernoulliNB()    \n",
    ")\n",
    "\n",
    "bnb_cv = StratifiedKFold(n_splits=5, shuffle=True, random_state=42)\n",
    "bnb_scoring = {\n",
    "    'accuracy'        : 'balanced_accuracy',  # you can still use the built-in string\n",
    "    'precision_macro' : make_scorer(\n",
    "        precision_score,\n",
    "        average='macro',\n",
    "        zero_division=0      # or 1, or 'warn'—your choice\n",
    "    ),\n",
    "    'recall_macro'   : make_scorer(\n",
    "        recall_score,\n",
    "        average='macro',\n",
    "        zero_division=0      # ensures recall handles any 0/0 in its internal precision/recall\n",
    "    ),\n",
    "    'f1_macro'        : make_scorer(\n",
    "        f1_score,\n",
    "        average='macro',\n",
    "        zero_division=0      # ensures F1 handles any 0/0 in its internal precision/recall\n",
    "    )\n",
    "}\n",
    "\n",
    "bnb_results = cross_validate(\n",
    "    bnb_pipeline,\n",
    "    df['content'],       # input features\n",
    "    df['topic'],         # labels\n",
    "    cv=bnb_cv,\n",
    "    scoring=bnb_scoring,\n",
    "    return_train_score=False\n",
    ")\n",
    "\n",
    "for metric in bnb_scoring:\n",
    "    key = f\"test_{metric}\"\n",
    "    bnb_scores = bnb_results[key]\n",
    "    # print(f\"Per-fold {key}:\", bnb_scores)\n",
    "    print(f\"Mean {key}      :\", np.mean(bnb_scores))"
   ]
  },
  {
   "cell_type": "code",
   "execution_count": 43,
   "id": "15ca66f4",
   "metadata": {},
   "outputs": [
    {
     "name": "stdout",
     "output_type": "stream",
     "text": [
      "topic\n",
      "dark         487\n",
      "sadness      371\n",
      "personal     341\n",
      "lifestyle    202\n",
      "emotion       79\n",
      "Name: count, dtype: int64\n"
     ]
    }
   ],
   "source": [
    "#assessing the balance of the dataset.\n",
    "counts = df['topic'].value_counts()\n",
    "print(counts)"
   ]
  },
  {
   "cell_type": "markdown",
   "id": "7d1b3bee",
   "metadata": {},
   "source": [
    "\n",
    "\n",
    "- Appropriate metrics: Precision, Recall, F1, Accuracy\n",
    "\n",
    "    1.Precision: TP/TP + FP.\n",
    "Precision is good for assessing how \"clean\" the prediction classes are. However, it ignores \"misses\" or false negatives. \n",
    "\n",
    "    2. Recall: TP/TP + FN.\n",
    "Recall shows the coverage of the recovery. However, recall ignores false positives.\n",
    "\n",
    "    3. F1: Harmonic mean of Precision and Recall.\n",
    "Trade-off between recall and precision.\n",
    "\n",
    "    4. Accuracy: Overall fraction of correctly labelled documents (TP + TN / dataset). Accounts for all types of classifications (FP, FN) however it can be misleading if some classess dominate.\n",
    "\n",
    "\n",
    "- The balance of the class is assessed.\n",
    "As the balance is slightly off (dark has 487 whilst emotion has 79), a possible solutions is to instead use a macro-average of the metrics to account for multiple-classes. This approach gives higher than normal influence to dominated (smaller) classes. Smaller classes are still important as a lower number of songs does not neccessarily mean that topic has a lower number of users.\n",
    "- Therefore, balanced_accuracy, and macro-f1, macro-recall, macro-precision was used as the main metrics.\n",
    "\n",
    "\n",
    "- An overall comparison of BNB and MNB found that MNB was superior."
   ]
  },
  {
   "cell_type": "markdown",
   "id": "b7f357f5",
   "metadata": {},
   "source": [
    "**Question 4)**"
   ]
  },
  {
   "cell_type": "markdown",
   "id": "fc817cc0",
   "metadata": {},
   "source": [
    "Gridsearch through top N words."
   ]
  },
  {
   "cell_type": "code",
   "execution_count": null,
   "id": "00b1f7ef",
   "metadata": {},
   "outputs": [
    {
     "name": "stdout",
     "output_type": "stream",
     "text": [
      "Max features: 1\n",
      "Mean test_accuracy      : 0.20704012676678363\n",
      "Mean test_precision_macro      : 0.09013977107843703\n",
      "Mean test_recall_macro      : 0.20704012676678363\n",
      "Mean test_f1_macro      : 0.12334710877888015\n",
      "Max features: 5\n",
      "Mean test_accuracy      : 0.22608019262946435\n",
      "Mean test_precision_macro      : 0.1850648039372525\n",
      "Mean test_recall_macro      : 0.22608019262946435\n",
      "Mean test_f1_macro      : 0.18271164668726775\n",
      "Max features: 10\n",
      "Mean test_accuracy      : 0.3233548639584972\n",
      "Mean test_precision_macro      : 0.2786631498916904\n",
      "Mean test_recall_macro      : 0.3233548639584972\n",
      "Mean test_f1_macro      : 0.2950774039799785\n",
      "Max features: 100\n",
      "Mean test_accuracy      : 0.48540509062709347\n",
      "Mean test_precision_macro      : 0.5184512500633984\n",
      "Mean test_recall_macro      : 0.48540509062709347\n",
      "Mean test_f1_macro      : 0.49469659041637815\n",
      "Max features: 325\n",
      "Mean test_accuracy      : 0.5543962765667467\n",
      "Mean test_precision_macro      : 0.5648899854887901\n",
      "Mean test_recall_macro      : 0.5543962765667467\n",
      "Mean test_f1_macro      : 0.5555427181801441\n",
      "Max features: 350\n",
      "Mean test_accuracy      : 0.5540105942671328\n",
      "Mean test_precision_macro      : 0.5621107363268785\n",
      "Mean test_recall_macro      : 0.5540105942671328\n",
      "Mean test_f1_macro      : 0.5548133415236879\n",
      "Max features: 375\n",
      "Mean test_accuracy      : 0.5593259444752784\n",
      "Mean test_precision_macro      : 0.5664389254326078\n",
      "Mean test_recall_macro      : 0.5593259444752784\n",
      "Mean test_f1_macro      : 0.5598872773191685\n",
      "Max features: 500\n",
      "Mean test_accuracy      : 0.5467201958406133\n",
      "Mean test_precision_macro      : 0.5583822088654944\n",
      "Mean test_recall_macro      : 0.5467201958406133\n",
      "Mean test_f1_macro      : 0.5468129754568791\n",
      "Max features: 1000\n",
      "Mean test_accuracy      : 0.5254950567906082\n",
      "Mean test_precision_macro      : 0.5327313911346481\n",
      "Mean test_recall_macro      : 0.5254950567906082\n",
      "Mean test_f1_macro      : 0.5211185257866648\n",
      "Max features: 10000\n",
      "Mean test_accuracy      : 0.38589700680882916\n",
      "Mean test_precision_macro      : 0.3564937760863204\n",
      "Mean test_recall_macro      : 0.38589700680882916\n",
      "Mean test_f1_macro      : 0.3377857649686252\n"
     ]
    }
   ],
   "source": [
    "#gridsearch through bnb.\n",
    "feature_limits = [1, 5, 10, 100, 325, 350, 375, 500, 1000, 10000]\n",
    "bnb_results_df = pd.DataFrame({\n",
    "    'Feature Limit': feature_limits,\n",
    "    'accuracy': [0.0 for _ in feature_limits],\n",
    "    'precision_macro': [0.0 for _ in feature_limits],\n",
    "    'recall_macro': [0.0 for _ in feature_limits],\n",
    "    'f1_macro': [0.0 for _ in feature_limits],\n",
    "})\n",
    "for limit in feature_limits:\n",
    "    bnb_pipeline = make_pipeline(\n",
    "        TfidfVectorizer(max_features=limit),\n",
    "        BernoulliNB()\n",
    "    )\n",
    "    bnb_cv = StratifiedKFold(n_splits=5, shuffle=True, random_state=42)\n",
    "    bnb_results = cross_validate(\n",
    "        bnb_pipeline,\n",
    "        df['content'],       # input features\n",
    "        df['topic'],         # labels\n",
    "        cv=bnb_cv,\n",
    "        scoring=bnb_scoring,\n",
    "        return_train_score=False\n",
    "    )\n",
    "    print(f\"Max features: {limit}\")\n",
    "    for metric in bnb_scoring:\n",
    "        key = f\"test_{metric}\"\n",
    "        bnb_scores = bnb_results[key]\n",
    "        bnb_results_df.loc[bnb_results_df['Feature Limit'] == limit, metric] = np.mean(bnb_scores)\n",
    "        print(f\"Mean {key}      :\", np.mean(bnb_scores))\n",
    "# Plotting the results"
   ]
  },
  {
   "cell_type": "code",
   "execution_count": null,
   "id": "1e7079a2",
   "metadata": {},
   "outputs": [
    {
     "name": "stdout",
     "output_type": "stream",
     "text": [
      "Max features: 1\n",
      "Mean test_accuracy      : 0.2\n",
      "Mean test_precision_macro      : 0.0658108108108108\n",
      "Mean test_recall_macro      : 0.2\n",
      "Mean test_f1_macro      : 0.09903359553609485\n",
      "Max features: 5\n",
      "Mean test_accuracy      : 0.20530084377991448\n",
      "Mean test_precision_macro      : 0.1198839692844009\n",
      "Mean test_recall_macro      : 0.20530084377991448\n",
      "Mean test_f1_macro      : 0.1245516487633777\n",
      "Max features: 10\n",
      "Mean test_accuracy      : 0.32695133613437066\n",
      "Mean test_precision_macro      : 0.33986213047802016\n",
      "Mean test_recall_macro      : 0.32695133613437066\n",
      "Mean test_f1_macro      : 0.3053865395230919\n",
      "Max features: 100\n",
      "Mean test_accuracy      : 0.5663622093901199\n",
      "Mean test_precision_macro      : 0.7291975839318667\n",
      "Mean test_recall_macro      : 0.5663622093901199\n",
      "Mean test_f1_macro      : 0.5810927485912056\n",
      "Max features: 325\n",
      "Mean test_accuracy      : 0.6470343063655845\n",
      "Mean test_precision_macro      : 0.7488141390733798\n",
      "Mean test_recall_macro      : 0.6470343063655845\n",
      "Mean test_f1_macro      : 0.6522016258794764\n",
      "Max features: 350\n",
      "Mean test_accuracy      : 0.6471002615184066\n",
      "Mean test_precision_macro      : 0.7109990414736774\n",
      "Mean test_recall_macro      : 0.6471002615184066\n",
      "Mean test_f1_macro      : 0.6480291808263885\n",
      "Max features: 375\n",
      "Mean test_accuracy      : 0.6454176345310663\n",
      "Mean test_precision_macro      : 0.7121424780927361\n",
      "Mean test_recall_macro      : 0.6454176345310663\n",
      "Mean test_f1_macro      : 0.6463143385710763\n",
      "Max features: 500\n",
      "Mean test_accuracy      : 0.6359729104915115\n",
      "Mean test_precision_macro      : 0.6711926983980565\n",
      "Mean test_recall_macro      : 0.6359729104915115\n",
      "Mean test_f1_macro      : 0.6345708143454559\n",
      "Max features: 1000\n",
      "Mean test_accuracy      : 0.584835824606761\n",
      "Mean test_precision_macro      : 0.6537107507562027\n",
      "Mean test_recall_macro      : 0.584835824606761\n",
      "Mean test_f1_macro      : 0.5785324462090891\n",
      "Max features: 10000\n",
      "Mean test_accuracy      : 0.4681716126546564\n",
      "Mean test_precision_macro      : 0.5266436296870303\n",
      "Mean test_recall_macro      : 0.4681716126546564\n",
      "Mean test_f1_macro      : 0.43816909491649403\n"
     ]
    }
   ],
   "source": [
    "#gridsearch through mnb\n",
    "feature_limits = [1, 5, 10, 100, 325, 350, 375, 500, 1000, 10000]\n",
    "mnb_results_df = pd.DataFrame({\n",
    "    'Feature Limit': feature_limits,\n",
    "    'accuracy': [0.0 for _ in feature_limits],\n",
    "    'precision_macro': [0.0 for _ in feature_limits],\n",
    "    'recall_macro': [0.0 for _ in feature_limits],\n",
    "    'f1_macro': [0.0 for _ in feature_limits],\n",
    "})\n",
    "for limit in feature_limits:\n",
    "    mnb_pipeline = make_pipeline(\n",
    "        TfidfVectorizer(max_features=limit),\n",
    "        MultinomialNB()\n",
    "    )\n",
    "    mnb_cv = StratifiedKFold(n_splits=5, shuffle=True, random_state=42)\n",
    "    mnb_results = cross_validate(\n",
    "        mnb_pipeline,\n",
    "        df['content'],       # input features\n",
    "        df['topic'],         # labels\n",
    "        cv=mnb_cv,\n",
    "        scoring=mnb_scoring,\n",
    "        return_train_score=False\n",
    "    )\n",
    "    print(f\"Max features: {limit}\")\n",
    "    for metric in mnb_scoring:\n",
    "        key = f\"test_{metric}\"\n",
    "        mnb_scores = mnb_results[key]\n",
    "        mnb_results_df.loc[mnb_results_df['Feature Limit'] == limit, metric] = np.mean(mnb_scores)\n",
    "        print(f\"Mean {key}      :\", np.mean(mnb_scores))"
   ]
  },
  {
   "cell_type": "code",
   "execution_count": null,
   "id": "26d6e982",
   "metadata": {},
   "outputs": [
    {
     "name": "stdout",
     "output_type": "stream",
     "text": [
      "MultinomialNB Gridsearch Raw Results:\n",
      "   Feature Limit  accuracy  precision_macro  recall_macro  f1_macro\n",
      "0              1  0.200000         0.065811      0.200000  0.099034\n",
      "1              5  0.205301         0.119884      0.205301  0.124552\n",
      "2             10  0.326951         0.339862      0.326951  0.305387\n",
      "3            100  0.566362         0.729198      0.566362  0.581093\n",
      "4            325  0.647034         0.748814      0.647034  0.652202\n",
      "5            350  0.647100         0.710999      0.647100  0.648029\n",
      "6            375  0.645418         0.712142      0.645418  0.646314\n",
      "7            500  0.635973         0.671193      0.635973  0.634571\n",
      "8           1000  0.584836         0.653711      0.584836  0.578532\n",
      "9          10000  0.468172         0.526644      0.468172  0.438169\n",
      "\n",
      "\n",
      "BernoulliNB Gridsearch Raw Results:\n",
      "   Feature Limit  accuracy  precision_macro  recall_macro  f1_macro\n",
      "0              1  0.207040         0.090140      0.207040  0.123347\n",
      "1              5  0.226080         0.185065      0.226080  0.182712\n",
      "2             10  0.323355         0.278663      0.323355  0.295077\n",
      "3            100  0.485405         0.518451      0.485405  0.494697\n",
      "4            325  0.554396         0.564890      0.554396  0.555543\n",
      "5            350  0.554011         0.562111      0.554011  0.554813\n",
      "6            375  0.559326         0.566439      0.559326  0.559887\n",
      "7            500  0.546720         0.558382      0.546720  0.546813\n",
      "8           1000  0.525495         0.532731      0.525495  0.521119\n",
      "9          10000  0.385897         0.356494      0.385897  0.337786\n"
     ]
    },
    {
     "data": {
      "image/png": "[encoded data removed]",
      "text/plain": [
       "<Figure size 1000x600 with 1 Axes>"
      ]
     },
     "metadata": {},
     "output_type": "display_data"
    }
   ],
   "source": [
    "print(\"MultinomialNB Gridsearch Raw Results:\")\n",
    "print(mnb_results_df)\n",
    "print(\"\\n\")\n",
    "print(\"BernoulliNB Gridsearch Raw Results:\")\n",
    "print(bnb_results_df)\n",
    "# plotting feature limits against accuracy\n",
    "plt.figure(figsize=(10, 6))\n",
    "plt.plot(mnb_results_df['Feature Limit'].astype(str), mnb_results_df['accuracy'], marker='o', label='MultinomialNB Accuracy')\n",
    "plt.plot(bnb_results_df['Feature Limit'].astype(str), bnb_results_df['accuracy'], marker='o', label='BernoulliNB Accuracy')\n",
    "plt.xlabel('Feature Limit (Note: not to scale)')\n",
    "plt.ylabel('Accuracy')\n",
    "plt.title('Accuracy vs Feature Limit for MultinomialNB and BernoulliNB')\n",
    "plt.legend()\n",
    "plt.grid()\n",
    "plt.tight_layout()"
   ]
  },
  {
   "cell_type": "markdown",
   "id": "d08201f5",
   "metadata": {},
   "source": [
    "Through a gridsearch, it was found that each model performed best at about N=~350. The performance was vastly superior to N=inf (which is the default setting.)\n",
    "\n",
    "N=350 is used as the feature number."
   ]
  },
  {
   "cell_type": "markdown",
   "id": "afad1f13",
   "metadata": {},
   "source": [
    "**Question 5)**"
   ]
  },
  {
   "cell_type": "markdown",
   "id": "f42e6345",
   "metadata": {},
   "source": [
    "Other machine learning method (Support Vector machine SVM selected)\n",
    "\n",
    "SVMs separate classes by forming a decision boundary (hyperplane) in the feature space that seeks to maximise the margin between two classifications.\n",
    "\n",
    "A margin is the distance between the decision boundary and the closest data-points in each class. The data-points closest to the decision boundary are also known as the \"support vectors\". These closest-datapoints then define the boundary between two classes.\n",
    "\n",
    "SVMs are suitable for classification over vectorized words. Vectorized words are typically sparse and high-dimensional. SVMs are good for this task because they only focus on a few key points which is much more computationally efficient that other methods that account for all datapoints, such as K-NNs. Flexible kernels that support sparse feature spaces additionally help to ensure good performance. Additionally, optimizations in embedding methods such as TF-IDF means that semantically similar words end up closer to each other compared to dissimilar words. This feature common to many word-vectorization method naturally forms clusters between similar words and spatial relationships (e.g. king - queen ~= man - woman) which lends themselves to natural and effective decision boundaries that can be identified by a SVM.\n",
    "\n",
    "A SVM is primarily tunable through three parameters. The type of decision boundary / kernel (linear, polynomial etc), C: the penalty term for misclassifying points, and γ: which influences the flexibility of the decision boundary. A basic gridsearch will be performed over these parameters to find the best ones.\n",
    "\n",
    "Due to the reasons presented above, it is hypothesised that the SVM would be much better than the MNB and BNB. This is because the SVM utilises and real-valued feature weights extracted by vectorization, as well as optimizations involved in TF-IDF vectorization. Conversely, the MNB and BNB instead relies on probabilistic calculations related to binary presence/absence or raw word counts. This approach by the MNB and BNB means that it is simply using much less information to make it's decisions, failing to leverage the rich features extracted by optimised vectorization methods such as TF-IDF."
   ]
  },
  {
   "cell_type": "code",
   "execution_count": null,
   "id": "2e828924",
   "metadata": {},
   "outputs": [
    {
     "name": "stdout",
     "output_type": "stream",
     "text": [
      "Fitting 5 folds for each of 76 candidates, totalling 380 fits\n",
      "Best params : {'svc__C': 10, 'svc__gamma': 'scale', 'svc__kernel': 'rbf'}\n",
      "Best score  : 0.8824324324324324\n"
     ]
    }
   ],
   "source": [
    "# performing gridsearch on SVM\n",
    "\n",
    "svm_pipeline = make_pipeline(\n",
    "    TfidfVectorizer(max_features=400),\n",
    "    SVC()    \n",
    ")\n",
    "\n",
    "svm_param_grid = [\n",
    "    # For linear kernel we only need C\n",
    "    {\n",
    "        'svc__kernel': ['linear'],\n",
    "        'svc__C':      [0.1, 1, 10, 100]\n",
    "    },\n",
    "    # For RBF, poly, sigmoid we also tune gamma\n",
    "    {\n",
    "        'svc__kernel': ['rbf', 'poly', 'sigmoid'],\n",
    "        'svc__C':      [0.1, 1, 10, 100],\n",
    "        'svc__gamma':  ['scale', 'auto', 0.001, 0.01, 0.1, 1]\n",
    "    }\n",
    "]\n",
    "\n",
    "svm_cv = StratifiedKFold(n_splits=5, shuffle=True, random_state=42)\n",
    "\n",
    "svm_grid = GridSearchCV(\n",
    "    estimator=svm_pipeline,\n",
    "    param_grid=svm_param_grid,\n",
    "    cv=svm_cv,\n",
    "    scoring='accuracy',\n",
    "    n_jobs=-1,            # parallelize across cores if you like\n",
    "    verbose=1\n",
    ")\n",
    "\n",
    "svm_grid.fit(df['content'], df['topic'])\n",
    "\n",
    "print(\"Best params :\", svm_grid.best_params_)\n",
    "print(\"Best score  :\", svm_grid.best_score_)"
   ]
  },
  {
   "cell_type": "code",
   "execution_count": null,
   "id": "1bc4925d",
   "metadata": {},
   "outputs": [
    {
     "name": "stdout",
     "output_type": "stream",
     "text": [
      "Mean test_accuracy      : 0.8623461566450563\n",
      "Mean test_precision_macro      : 0.8842018077262555\n",
      "Mean test_recall_macro      : 0.8623461566450563\n",
      "Mean test_f1_macro      : 0.8716593958235423\n"
     ]
    }
   ],
   "source": [
    "# single-run version of the pipeline (faster)\n",
    "\n",
    "pipeline = make_pipeline(\n",
    "    TfidfVectorizer(max_features=400),\n",
    "    SVC(kernel='rbf', C=10, gamma='scale')  # using best params from grid search\n",
    ")\n",
    "pipeline.fit(df['content'], df['topic'])\n",
    "svm_scoring = mnb_scoring  # reusing the same scoring metrics\n",
    "svm_results = cross_validate(\n",
    "    pipeline,\n",
    "    df['content'],       # input features\n",
    "    df['topic'],         # labels\n",
    "    cv=svm_cv,\n",
    "    scoring=svm_scoring,\n",
    "    return_train_score=False\n",
    ")\n",
    "for metric in svm_scoring:\n",
    "    key = f\"test_{metric}\"\n",
    "    svm_scores = svm_results[key]\n",
    "    print(f\"Mean {key}      :\", np.mean(svm_scores))\n",
    "\n",
    "\n"
   ]
  },
  {
   "cell_type": "markdown",
   "id": "c004d317",
   "metadata": {},
   "source": [
    "My hypothesis regarding SVMs was correct, in that it was very effective in classifying words. MNB and BNB accuracy peaked at around 0.647 and 0.559 respectively, whilst SVM was able to achieve a significantly higher accuracy of 0.862. Other metrics yielded similar results.\n",
    "\n",
    "Therefore, the \"best\" method was the SVM, with settings \" kernel='rbf', C=10, gamma='scale' \""
   ]
  }
 ],
 "metadata": {
  "kernelspec": {
   "display_name": ".venv",
   "language": "python",
   "name": "python3"
  },
  "language_info": {
   "codemirror_mode": {
    "name": "ipython",
    "version": 3
   },
   "file_extension": ".py",
   "mimetype": "text/x-python",
   "name": "python",
   "nbconvert_exporter": "python",
   "pygments_lexer": "ipython3",
   "version": "3.12.3"
  }
 },
 "nbformat": 4,
 "nbformat_minor": 5
}
